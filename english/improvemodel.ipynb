{
 "cells": [
  {
   "cell_type": "code",
   "execution_count": 1,
   "metadata": {},
   "outputs": [],
   "source": [
    "!cat ./data/en-12books.txt | sed -e \"s/\\([.\\!?,'/()]\\)/ \\1 /g\" | tr \"[:upper:]\" \"[:lower:]\" > en-12books.preprocessed.txt"
   ]
  },
  {
   "cell_type": "code",
   "execution_count": 6,
   "metadata": {},
   "outputs": [
    {
     "name": "stdout",
     "output_type": "stream",
     "text": [
      "\u001b[34mdata\u001b[m\u001b[m                        fasttext.ipynb\n",
      "en-12books.preprocessed.txt improvemodel.ipynb\n",
      "en-12books.train            model_englishbooks.bin\n",
      "en-12books.valid            model_englishbooks.vec\n",
      "englishbooks.train          preparing_data.ipynb\n",
      "englishbooks.valid\n",
      "   30803 1410046 7612452 en-12books.preprocessed.txt\n"
     ]
    }
   ],
   "source": [
    "!ls\n",
    "!wc en-12books.preprocessed.txt\n",
    "!head -n 24642 en-12books.preprocessed.txt > en-12books.train\n",
    "!tail -n 6160 en-12books.preprocessed.txt > en-12books.valid\n"
   ]
  },
  {
   "cell_type": "code",
   "execution_count": 7,
   "metadata": {},
   "outputs": [
    {
     "name": "stdout",
     "output_type": "stream",
     "text": [
      "\u001b[34mdata\u001b[m\u001b[m                        fasttext.ipynb\r\n",
      "en-12books.preprocessed.txt improvemodel.ipynb\r\n",
      "en-12books.train            model_englishbooks.bin\r\n",
      "en-12books.valid            model_englishbooks.vec\r\n",
      "englishbooks.train          preparing_data.ipynb\r\n",
      "englishbooks.valid\r\n"
     ]
    }
   ],
   "source": [
    "!ls"
   ]
  },
  {
   "cell_type": "code",
   "execution_count": 8,
   "metadata": {},
   "outputs": [
    {
     "name": "stdout",
     "output_type": "stream",
     "text": [
      "Read 1M words\n",
      "Number of words:  48865\n",
      "Number of labels: 7\n",
      "Progress: 100.0% words/sec/thread: 3485885 lr:  0.000000 loss:  1.631243 ETA:   0h 0m\n"
     ]
    }
   ],
   "source": [
    "!./../fastText-master/fasttext supervised -input en-12books.train -output model_preprocessed"
   ]
  },
  {
   "cell_type": "code",
   "execution_count": 9,
   "metadata": {},
   "outputs": [
    {
     "name": "stdout",
     "output_type": "stream",
     "text": [
      "N\t4673\r\n",
      "P@1\t0.688\r\n",
      "R@1\t0.417\r\n",
      "Number of examples: 4673\r\n"
     ]
    }
   ],
   "source": [
    "!./../fastText-master/fasttext test model_preprocessed.bin en-12books.valid\n"
   ]
  },
  {
   "cell_type": "code",
   "execution_count": 14,
   "metadata": {},
   "outputs": [
    {
     "name": "stdout",
     "output_type": "stream",
     "text": [
      "0.519268778280543\n"
     ]
    }
   ],
   "source": [
    "precision =0.688\n",
    "recall = 0.417\n",
    "fscore = 2* (precision*recall)/(precision+recall)\n",
    "\n",
    "print(fscore)"
   ]
  },
  {
   "cell_type": "code",
   "execution_count": null,
   "metadata": {},
   "outputs": [],
   "source": []
  }
 ],
 "metadata": {
  "kernelspec": {
   "display_name": "Python 3",
   "language": "python",
   "name": "python3"
  },
  "language_info": {
   "codemirror_mode": {
    "name": "ipython",
    "version": 3
   },
   "file_extension": ".py",
   "mimetype": "text/x-python",
   "name": "python",
   "nbconvert_exporter": "python",
   "pygments_lexer": "ipython3",
   "version": "3.6.4"
  }
 },
 "nbformat": 4,
 "nbformat_minor": 2
}
