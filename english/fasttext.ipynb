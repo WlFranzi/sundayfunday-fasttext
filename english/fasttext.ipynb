{
 "cells": [
  {
   "cell_type": "code",
   "execution_count": 1,
   "metadata": {},
   "outputs": [],
   "source": [
    "import fastText"
   ]
  },
  {
   "cell_type": "code",
   "execution_count": 2,
   "metadata": {},
   "outputs": [
    {
     "data": {
      "text/plain": [
       "['BOW',\n",
       " 'EOS',\n",
       " 'EOW',\n",
       " 'FastText',\n",
       " '__builtins__',\n",
       " '__cached__',\n",
       " '__doc__',\n",
       " '__file__',\n",
       " '__loader__',\n",
       " '__name__',\n",
       " '__package__',\n",
       " '__path__',\n",
       " '__spec__',\n",
       " 'absolute_import',\n",
       " 'division',\n",
       " 'load_model',\n",
       " 'print_function',\n",
       " 'tokenize',\n",
       " 'train_supervised',\n",
       " 'train_unsupervised',\n",
       " 'unicode_literals']"
      ]
     },
     "execution_count": 2,
     "metadata": {},
     "output_type": "execute_result"
    }
   ],
   "source": [
    "dir(fastText)"
   ]
  },
  {
   "cell_type": "code",
   "execution_count": 4,
   "metadata": {},
   "outputs": [
    {
     "name": "stdout",
     "output_type": "stream",
     "text": [
      "\u001b[34mdata\u001b[m\u001b[m                   fasttext.ipynb         preparing_data.ipynb\r\n",
      "englishbooks.train     model_englishbooks.bin\r\n",
      "englishbooks.valid     model_englishbooks.vec\r\n"
     ]
    }
   ],
   "source": [
    "!ls"
   ]
  },
  {
   "cell_type": "code",
   "execution_count": 9,
   "metadata": {},
   "outputs": [
    {
     "name": "stdout",
     "output_type": "stream",
     "text": [
      "usage: fasttext predict[-prob] <model> <test-data> [<k>] [<th>]\r\n",
      "\r\n",
      "  <model>      model filename\r\n",
      "  <test-data>  test data filename (if -, read from stdin)\r\n",
      "  <k>          (optional; 1 by default) predict top k labels\r\n",
      "  <th>         (optional; 0.0 by default) probability threshold\r\n",
      "\r\n"
     ]
    }
   ],
   "source": [
    "!./../fastText-master/fasttext predict model_englishbooks.bin "
   ]
  },
  {
   "cell_type": "code",
   "execution_count": 11,
   "metadata": {},
   "outputs": [
    {
     "name": "stdout",
     "output_type": "stream",
     "text": [
      "N\t4673\r\n",
      "P@1\t0.671\r\n",
      "R@1\t0.406\r\n",
      "Number of examples: 4673\r\n"
     ]
    }
   ],
   "source": [
    "!./../fastText-master/fasttext test model_englishbooks.bin englishbooks.valid "
   ]
  },
  {
   "cell_type": "code",
   "execution_count": 26,
   "metadata": {},
   "outputs": [
    {
     "name": "stdout",
     "output_type": "stream",
     "text": [
      "0.5058978644382546\n"
     ]
    }
   ],
   "source": [
    "precision =0.671\n",
    "recall = 0.406\n",
    "fscore = 2* (precision*recall)/(precision+recall)\n",
    "\n",
    "print(fscore)"
   ]
  },
  {
   "cell_type": "code",
   "execution_count": 14,
   "metadata": {},
   "outputs": [
    {
     "name": "stdout",
     "output_type": "stream",
     "text": [
      "Joy Anger Sadness Tentative Analytical Fear Confident English\r\n",
      "__label__Joy       \"ALICE'S ADVENTURES IN WONDERLAND\"\r\n",
      "       \"Lewis Carroll\"\r\n",
      "       \"CHAPTER I Down the Rabbit-Hole\"\r\n",
      "       \"Alice was beginning to get very tired of sitting by her sister on the bank, and of having nothing to do: once or twice she had peeped into the book her sister was reading, but it had no pictures or conversations in it, 'and what is the use of a book,' thought Alice 'without pictures or conversation?'\"\r\n",
      "__label__Joy       \"So she was considering in her own mind (as well as she could, for the hot day made her feel very sleepy and stupid), whether the pleasure of making a daisy-chain would be worth the trouble of getting up and picking the daisies, when suddenly a White Rabbit with pink eyes ran close by her.\"\r\n",
      "   __label__Tentative    \"There was nothing so very remarkable in that; nor did Alice think it so very much out of the way to hear the Rabbit say to itself, 'Oh dear! Oh dear! I shall be late!' (when she thought it over afterwards, it occurred to her that she ought to have wondered at this, but at the time it all seemed quite natural); but when the Rabbit actually took a watch out of its waistcoat-pocket, and looked at it, and then hurried on, Alice started to her feet, for it flashed across her mind that she had never before seen a rabbit with either a waistcoat-pocket, or a watch to take out of it, and burning with curiosity, she ran across the field after it, and fortunately was just in time to see it pop down a large rabbit-hole under the hedge.\"\r\n",
      "       \"In another moment down went Alice after it, never once considering how in the world she was to get out again.\"\r\n",
      "    __label__Analytical __label__Fear  \"The rabbit-hole went straight on like a tunnel for some way, and then dipped suddenly down, so suddenly that Alice had not a moment to think about stopping herself before she found herself falling down a very deep well.\"\r\n",
      "  __label__Sadness __label__Tentative  __label__Fear  \"Either the well was very deep, or she fell very slowly, for she had plenty of time as she went down to look about her and to wonder what was going to happen next. First, she tried to look down and make out what she was coming to, but it was too dark to see anything; then she looked at the sides of the well, and noticed that they were filled with cupboards and book-shelves; here and there she saw maps and pictures hung upon pegs. She took down a jar from one of the shelves as she passed; it was labelled 'ORANGE MARMALADE', but to her great disappointment it was empty: she did not like to drop the jar for fear of killing somebody, so managed to put it into one of the cupboards as she fell past it.\"\r\n"
     ]
    }
   ],
   "source": [
    "!head englishbooks.train"
   ]
  },
  {
   "cell_type": "code",
   "execution_count": 20,
   "metadata": {},
   "outputs": [
    {
     "name": "stdout",
     "output_type": "stream",
     "text": [
      "defaultdict(<class 'int'>, {'__label__Joy': 4856, '__label__Tentative': 5124, '__label__Analytical': 7153, '__label__Fear': 1124, '__label__Sadness': 4264, '__label__Anger': 822, '__label__Confident': 2726})\n"
     ]
    }
   ],
   "source": [
    "from collections import defaultdict\n",
    "counter = defaultdict(int)\n",
    "\n",
    "with open(\"englishbooks.train\", \"r\") as f:\n",
    "    for line in f:\n",
    "        for w in line.split():\n",
    "            if w.strip().startswith(\"__label__\"):\n",
    "                counter[w.strip()] += 1\n",
    "                \n",
    "print(counter)"
   ]
  },
  {
   "cell_type": "code",
   "execution_count": 18,
   "metadata": {},
   "outputs": [
    {
     "name": "stdout",
     "output_type": "stream",
     "text": [
      "[822, 1124, 2726, 4264, 4856, 5124, 7153]\n"
     ]
    }
   ],
   "source": [
    "all = sorted(counter.values())"
   ]
  },
  {
   "cell_type": "code",
   "execution_count": 21,
   "metadata": {},
   "outputs": [
    {
     "data": {
      "text/plain": [
       "0.27438720319153015"
      ]
     },
     "execution_count": 21,
     "metadata": {},
     "output_type": "execute_result"
    }
   ],
   "source": [
    " max(counter.values())/sum(counter.values())"
   ]
  },
  {
   "cell_type": "code",
   "execution_count": 25,
   "metadata": {},
   "outputs": [
    {
     "name": "stdout",
     "output_type": "stream",
     "text": [
      "^C\r\n"
     ]
    }
   ],
   "source": [
    "!./../fastText-master/fasttext predict model_englishbooks.bin - 5"
   ]
  },
  {
   "cell_type": "code",
   "execution_count": null,
   "metadata": {},
   "outputs": [],
   "source": []
  }
 ],
 "metadata": {
  "kernelspec": {
   "display_name": "Python 3",
   "language": "python",
   "name": "python3"
  },
  "language_info": {
   "codemirror_mode": {
    "name": "ipython",
    "version": 3
   },
   "file_extension": ".py",
   "mimetype": "text/x-python",
   "name": "python",
   "nbconvert_exporter": "python",
   "pygments_lexer": "ipython3",
   "version": "3.6.4"
  }
 },
 "nbformat": 4,
 "nbformat_minor": 2
}
